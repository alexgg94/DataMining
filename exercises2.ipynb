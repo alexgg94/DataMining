{
 "cells": [
  {
   "cell_type": "markdown",
   "metadata": {},
   "source": [
    "In this second set of exercices you will have to develop two Machine Learning procedures. In both cases is mandatory to use Apache Spark 2.x and if you need any necessary library to manage data or to generate features you must use Apache MLlib (DataFrame version). Check the following aspects:\n",
    "\n",
    "**Problem 1:**\n",
    "\n",
    "Using the dataset, build a Machine Learning procedure to predict the price of houses having neighbourhood variables. The Boston House Price Dataset involves the prediction of a house price in thousands of dollars given details of the house and its neighborhood. You can download the data from here: https://raw.githubusercontent.com/jbrownlee/Datasets/master/housing.data. More info here: https://www.cs.toronto.edu/~delve/data/boston/bostonDetail.html.\n",
    "\n",
    "* Make sure that your dataset is technically correct\n",
    "* Check the consistency of your dataset\n",
    "* In this exercise is not mandatory to use Pipelines\n",
    "* Split your data into two sets: 80% of the data for training and 20% of the data for testing\n",
    "* Provide convenient measures to check how the model is behaving\n",
    "\n",
    "**Problem 2:**\n",
    "\n",
    "Using the dataset, build a Machine Learning procedure to classify if the return of a SONAR signal is a Rock or a Mine. You have all the data available at: https://archive.ics.uci.edu/ml/datasets/Connectionist+Bench+%28Sonar%2C+Mines+vs.+Rocks%29. \n",
    "Make sure that you use `sonar.all-data` dataset. Check the following aspects:\n",
    "\n",
    "* Make sure that your dataset is technically correct\n",
    "* Check the consistency of your dataset\n",
    "* In this exercise is mandatory to use Pipelines\n",
    "* Split your data into two sets: 80% of the data for training and 20% of the data for testing\n",
    "* Check that the labels in both sets are equaly distributed (hint: this is called stratified sampling)\n",
    "* Provide convenient measures to check how the model is behaving"
   ]
  }
 ],
 "metadata": {
  "kernelspec": {
   "display_name": "Python 3",
   "language": "python",
   "name": "python3"
  },
  "language_info": {
   "codemirror_mode": {
    "name": "ipython",
    "version": 3
   },
   "file_extension": ".py",
   "mimetype": "text/x-python",
   "name": "python",
   "nbconvert_exporter": "python",
   "pygments_lexer": "ipython3",
   "version": "3.6.3"
  }
 },
 "nbformat": 4,
 "nbformat_minor": 2
}
